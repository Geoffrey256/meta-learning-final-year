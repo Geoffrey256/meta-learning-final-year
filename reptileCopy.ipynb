{
  "cells": [
    {
      "cell_type": "markdown",
      "metadata": {
        "id": "view-in-github",
        "colab_type": "text"
      },
      "source": [
        "<a href=\"https://colab.research.google.com/github/Geoffrey256/meta-learning-final-year/blob/main/reptileCopy.ipynb\" target=\"_parent\"><img src=\"https://colab.research.google.com/assets/colab-badge.svg\" alt=\"Open In Colab\"/></a>"
      ]
    },
    {
      "cell_type": "code",
      "execution_count": null,
      "metadata": {
        "colab": {
          "base_uri": "https://localhost:8080/"
        },
        "id": "7ajBUlLKxFIW",
        "outputId": "5207e10b-e629-47c8-a095-d6dca0fe0fa9"
      },
      "outputs": [
        {
          "name": "stdout",
          "output_type": "stream",
          "text": [
            "Mounted at /content/drive\n"
          ]
        }
      ],
      "source": [
        "from google.colab import drive\n",
        "drive.mount('/content/drive')"
      ]
    },
    {
      "cell_type": "code",
      "execution_count": null,
      "metadata": {
        "id": "eDhWZTNj13kx"
      },
      "outputs": [],
      "source": [
        "import pandas as pd\n",
        "import numpy as np\n",
        "import matplotlib.pyplot as plt\n",
        "import seaborn as sns\n",
        "\n",
        "import os\n",
        "import random\n",
        "import tensorflow as tf\n",
        "import torch\n",
        "import torch.nn as nn\n",
        "import torch.optim as optim\n",
        "from torch.utils.data import DataLoader, Dataset\n",
        "from torchvision import transforms\n",
        "from torchvision.datasets import ImageFolder\n",
        "import shutil\n",
        "\n",
        "import glob\n",
        "\n",
        "\n",
        "from tensorflow import keras\n",
        "from tensorflow.keras import layers\n",
        "from sklearn.model_selection import train_test_split\n",
        "from tensorflow.keras.preprocessing.image import ImageDataGenerator\n"
      ]
    },
    {
      "cell_type": "code",
      "execution_count": null,
      "metadata": {
        "id": "a_7lwF0F14xY"
      },
      "outputs": [],
      "source": [
        "train_dir1 = \"/content/drive/MyDrive/Datasets/Extracted/Pharmaceutical_and_Biomedical_Waste/Pharmaceutical and Biomedical Waste (PBW)\"\n",
        "train_dir = '/content/drive/MyDrive/Datasets/Extracted/organized_dataset/train'\n",
        "val_dir = '/content/drive/MyDrive/Datasets/Extracted/organized_dataset/validation'\n",
        "test_dir = '/content/drive/MyDrive/Datasets/Extracted/organized_dataset/test'"
      ]
    },
    {
      "cell_type": "code",
      "execution_count": null,
      "metadata": {
        "colab": {
          "base_uri": "https://localhost:8080/"
        },
        "id": "tYz1Zy-W18g1",
        "outputId": "257c2d6f-c0ea-4b70-b50b-04866786149f"
      },
      "outputs": [
        {
          "name": "stdout",
          "output_type": "stream",
          "text": [
            "Found 2547 images belonging to 13 classes.\n",
            "Found 849 images belonging to 13 classes.\n",
            "Found 849 images belonging to 13 classes.\n"
          ]
        }
      ],
      "source": [
        "# @title Step 2: Data Preprocessing and Augmentation\n",
        "\n",
        "# Define data augmentation transformations\n",
        "train_datagen = ImageDataGenerator(\n",
        "    rescale=1.0 / 255.0,\n",
        "    rotation_range=20,\n",
        "    width_shift_range=0.2,\n",
        "    height_shift_range=0.2,\n",
        "    shear_range=0.2,\n",
        "    zoom_range=0.2,\n",
        "    horizontal_flip=True\n",
        ")\n",
        "\n",
        "val_datagen = ImageDataGenerator(rescale=1.0 / 255.0)\n",
        "test_datagen = ImageDataGenerator(rescale=1.0 / 255.0)\n",
        "\n",
        "# Load and transform the images from the directories\n",
        "train_data = train_datagen.flow_from_directory(\n",
        "    train_dir,\n",
        "    target_size=(128, 128),\n",
        "    batch_size=32,\n",
        "    class_mode='categorical'\n",
        ")\n",
        "\n",
        "val_data = val_datagen.flow_from_directory(\n",
        "    val_dir,\n",
        "    target_size=(128, 128),\n",
        "    batch_size=32,\n",
        "    class_mode='categorical'\n",
        ")\n",
        "\n",
        "test_data = test_datagen.flow_from_directory(\n",
        "    test_dir,\n",
        "    target_size=(128, 128),\n",
        "    batch_size=32,\n",
        "    class_mode='categorical'\n",
        ")\n"
      ]
    },
    {
      "cell_type": "code",
      "execution_count": null,
      "metadata": {
        "id": "yEiF_CKK1_-4"
      },
      "outputs": [],
      "source": [
        "import tensorflow as tf\n",
        "from tensorflow.keras import layers, models\n",
        "\n",
        "# Define a CNN-based model architecture suitable for few-shot learning\n",
        "class ReptileModel(tf.keras.Model):\n",
        "    def __init__(self, num_classes=1):  # Adjust `num_classes` as needed\n",
        "        super(ReptileModel, self).__init__()\n",
        "\n",
        "        # Convolutional layers\n",
        "        self.conv1 = layers.Conv2D(32, (3, 3), activation='relu')\n",
        "        self.conv2 = layers.Conv2D(64, (3, 3), activation='relu')\n",
        "        self.conv3 = layers.Conv2D(128, (3, 3), activation='relu')\n",
        "        self.pool = layers.MaxPooling2D((2, 2))\n",
        "\n",
        "        # Flatten and Dense layers\n",
        "        self.flatten = layers.Flatten()\n",
        "        self.fc1 = layers.Dense(128, activation='relu')\n",
        "        self.fc2 = layers.Dense(num_classes, activation='softmax')\n",
        "\n",
        "    def call(self, inputs):\n",
        "        x = self.conv1(inputs)\n",
        "        x = self.pool(x)\n",
        "        x = self.conv2(x)\n",
        "        x = self.pool(x)\n",
        "        x = self.conv3(x)\n",
        "        x = self.pool(x)\n",
        "        x = self.flatten(x)\n",
        "        x = self.fc1(x)\n",
        "        return self.fc2(x)\n",
        "\n",
        "# Initialize the model\n",
        "model = ReptileModel(num_classes=13)  # Assuming 12 classes in your dataset\n"
      ]
    },
    {
      "cell_type": "code",
      "execution_count": null,
      "metadata": {
        "id": "3RDorwtF2Gtq"
      },
      "outputs": [],
      "source": [
        "import tensorflow as tf\n",
        "\n",
        "# Define loss function and optimizer outside the training function\n",
        "loss_fn = tf.keras.losses.CategoricalCrossentropy()  # Define the loss function\n",
        "optimizer = tf.keras.optimizers.Adam()               # Define the optimizer\n",
        "\n",
        "# Training function\n",
        "def train_reptile_model(model, train_data, num_epochs=5, steps_per_epoch=50):\n",
        "    for epoch in range(num_epochs):\n",
        "        print(f\"Epoch {epoch + 1}/{num_epochs}\")\n",
        "        for step in range(steps_per_epoch):\n",
        "            X_batch, y_batch = next(train_data)  # Get the next batch\n",
        "\n",
        "            with tf.GradientTape() as tape:\n",
        "                predictions = model(X_batch, training=True)  # Make predictions\n",
        "                loss = loss_fn(y_batch, predictions)         # Calculate loss\n",
        "\n",
        "            # Compute gradients and update weights\n",
        "            gradients = tape.gradient(loss, model.trainable_variables)\n",
        "            optimizer.apply_gradients(zip(gradients, model.trainable_variables))\n",
        "\n",
        "            # Calculate accuracy\n",
        "            accuracy = tf.reduce_mean(tf.cast(tf.equal(tf.argmax(predictions, axis=1), tf.argmax(y_batch, axis=1)), tf.float32))\n",
        "\n",
        "            if step % 10 == 0:  # Print every 10 steps\n",
        "                print(f\"Step: {step}, Loss: {loss.numpy()}, Accuracy: {accuracy.numpy() * 100:.2f}%\")\n",
        "\n",
        "# # Example setup: calculate steps per epoch or set explicitly\n",
        "# steps_per_epoch = train_data.samples // train_data.batch_size\n",
        "# train_reptile_model(model, train_data, num_epochs=5, steps_per_epoch=steps_per_epoch)\n"
      ]
    },
    {
      "cell_type": "code",
      "execution_count": null,
      "metadata": {
        "colab": {
          "background_save": true,
          "base_uri": "https://localhost:8080/"
        },
        "id": "CvhtwLOv2Mc6",
        "outputId": "c632dae6-d757-443f-dcbe-d487a3f109d1"
      },
      "outputs": [
        {
          "name": "stdout",
          "output_type": "stream",
          "text": [
            "Epoch 1/5\n",
            "Step: 0, Loss: 2.586129903793335, Accuracy: 3.12%\n",
            "Step: 10, Loss: 2.5671610832214355, Accuracy: 12.50%\n",
            "Step: 20, Loss: 2.3435871601104736, Accuracy: 21.88%\n",
            "Step: 30, Loss: 2.3425679206848145, Accuracy: 12.50%\n",
            "Step: 40, Loss: 2.343461275100708, Accuracy: 18.75%\n",
            "Step: 50, Loss: 1.8867439031600952, Accuracy: 34.38%\n",
            "Step: 60, Loss: 1.9476189613342285, Accuracy: 28.12%\n",
            "Step: 70, Loss: 2.068929672241211, Accuracy: 18.75%\n",
            "Epoch 2/5\n",
            "Step: 0, Loss: 1.922595500946045, Accuracy: 25.00%\n",
            "Step: 10, Loss: 1.8436733484268188, Accuracy: 28.12%\n",
            "Step: 20, Loss: 1.8790991306304932, Accuracy: 37.50%\n",
            "Step: 30, Loss: 1.7931338548660278, Accuracy: 34.38%\n",
            "Step: 40, Loss: 1.8741836547851562, Accuracy: 25.00%\n",
            "Step: 50, Loss: 1.7944025993347168, Accuracy: 40.62%\n",
            "Step: 60, Loss: 1.9460580348968506, Accuracy: 25.00%\n",
            "Step: 70, Loss: 1.7937191724777222, Accuracy: 12.50%\n",
            "Epoch 3/5\n",
            "Step: 0, Loss: 1.760842204093933, Accuracy: 26.32%\n",
            "Step: 10, Loss: 1.3647758960723877, Accuracy: 34.38%\n",
            "Step: 20, Loss: 1.7741236686706543, Accuracy: 37.50%\n",
            "Step: 30, Loss: 1.4347811937332153, Accuracy: 37.50%\n",
            "Step: 40, Loss: 1.492998719215393, Accuracy: 40.62%\n",
            "Step: 50, Loss: 1.5363497734069824, Accuracy: 34.38%\n",
            "Step: 60, Loss: 1.6848132610321045, Accuracy: 21.88%\n",
            "Step: 70, Loss: 1.4420417547225952, Accuracy: 34.38%\n",
            "Epoch 4/5\n",
            "Step: 0, Loss: 1.4644465446472168, Accuracy: 40.62%\n",
            "Step: 10, Loss: 1.6529622077941895, Accuracy: 34.38%\n",
            "Step: 20, Loss: 1.4465625286102295, Accuracy: 43.75%\n",
            "Step: 30, Loss: 1.262078046798706, Accuracy: 40.62%\n",
            "Step: 40, Loss: 1.5913455486297607, Accuracy: 34.38%\n",
            "Step: 50, Loss: 1.4883170127868652, Accuracy: 34.38%\n",
            "Step: 60, Loss: 1.4262688159942627, Accuracy: 34.38%\n",
            "Step: 70, Loss: 1.5026750564575195, Accuracy: 46.88%\n",
            "Epoch 5/5\n",
            "Step: 0, Loss: 1.2200443744659424, Accuracy: 50.00%\n",
            "Step: 10, Loss: 1.2927448749542236, Accuracy: 56.25%\n",
            "Step: 20, Loss: 1.3936808109283447, Accuracy: 50.00%\n",
            "Step: 30, Loss: 1.341040849685669, Accuracy: 46.88%\n",
            "Step: 40, Loss: 1.1695623397827148, Accuracy: 62.50%\n",
            "Step: 50, Loss: 1.385834813117981, Accuracy: 50.00%\n",
            "Step: 60, Loss: 1.448941946029663, Accuracy: 37.50%\n",
            "Step: 70, Loss: 1.0607974529266357, Accuracy: 62.50%\n"
          ]
        }
      ],
      "source": [
        "# Calculate steps per epoch based on your training data size\n",
        "steps_per_epoch = train_data.samples // train_data.batch_size\n",
        "\n",
        "# Call the training function\n",
        "train_reptile_model(model, train_data, num_epochs=5, steps_per_epoch=steps_per_epoch)\n"
      ]
    },
    {
      "cell_type": "code",
      "execution_count": null,
      "metadata": {
        "id": "QBhxjFt85shK"
      },
      "outputs": [],
      "source": []
    }
  ],
  "metadata": {
    "colab": {
      "provenance": [],
      "authorship_tag": "ABX9TyPHvIWcA0q9Y29HtGVFi6CI",
      "include_colab_link": true
    },
    "kernelspec": {
      "display_name": "Python 3",
      "name": "python3"
    },
    "language_info": {
      "name": "python"
    }
  },
  "nbformat": 4,
  "nbformat_minor": 0
}