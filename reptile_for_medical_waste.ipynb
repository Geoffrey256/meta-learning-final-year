{
  "cells": [
    {
      "cell_type": "markdown",
      "metadata": {
        "id": "view-in-github",
        "colab_type": "text"
      },
      "source": [
        "<a href=\"https://colab.research.google.com/github/Geoffrey256/meta-learning-final-year/blob/main/reptile_for_medical_waste.ipynb\" target=\"_parent\"><img src=\"https://colab.research.google.com/assets/colab-badge.svg\" alt=\"Open In Colab\"/></a>"
      ]
    },
    {
      "cell_type": "code",
      "execution_count": null,
      "metadata": {
        "id": "yCM8E_xnUo0X"
      },
      "outputs": [],
      "source": [
        "from google.colab import drive\n",
        "drive.mount('/content/drive')"
      ]
    },
    {
      "cell_type": "code",
      "execution_count": null,
      "metadata": {
        "colab": {
          "base_uri": "https://localhost:8080/"
        },
        "id": "n99O6ZtWVLhg",
        "outputId": "4ca2c2a2-8478-499d-af72-f2cc3fc2c1b6"
      },
      "outputs": [
        {
          "output_type": "stream",
          "name": "stdout",
          "text": [
            "Available Classes: ['chemical', 'general waste', 'infectious waste', 'pharmacutical', 'sharps']\n"
          ]
        }
      ],
      "source": [
        "import os\n",
        "\n",
        "# Dataset base path\n",
        "base_path = \"/content/drive/MyDrive/Year3 /Datasets/medical_dataset/Medical_Waste_Dataset\"\n",
        "\n",
        "# Training directory\n",
        "train_path = os.path.join(base_path, \"train\")\n",
        "\n",
        "# List class folders inside train\n",
        "class_names = sorted(os.listdir(train_path))\n",
        "print(\"Available Classes:\", class_names)"
      ]
    },
    {
      "cell_type": "code",
      "execution_count": null,
      "metadata": {
        "colab": {
          "base_uri": "https://localhost:8080/"
        },
        "id": "FMCbkgPKXKsk",
        "outputId": "eea7af24-4b5b-4b10-8e93-6660aa4fe40a"
      },
      "outputs": [
        {
          "output_type": "stream",
          "name": "stdout",
          "text": [
            "Image sizes (height x width):\n",
            "(224, 224): 50 images\n"
          ]
        }
      ],
      "source": [
        "import cv2\n",
        "from collections import Counter\n",
        "\n",
        "# Dictionary to count image sizes\n",
        "size_counter = Counter()\n",
        "\n",
        "# Loop through class folders and sample sizes\n",
        "for class_name in class_names:\n",
        "    class_dir = os.path.join(train_path, class_name)\n",
        "    files_checked = 0\n",
        "\n",
        "    for img_file in os.listdir(class_dir):\n",
        "        img_path = os.path.join(class_dir, img_file)\n",
        "        img = cv2.imread(img_path)\n",
        "\n",
        "        if img is not None:\n",
        "            size_counter[img.shape[:2]] += 1  # (height, width)\n",
        "            files_checked += 1\n",
        "\n",
        "        if files_checked >= 10:  # Check only first 10 images per class\n",
        "            break\n",
        "\n",
        "print(\"Image sizes (height x width):\")\n",
        "for size, count in size_counter.items():\n",
        "    print(f\"{size}: {count} images\")"
      ]
    },
    {
      "cell_type": "code",
      "execution_count": null,
      "metadata": {
        "colab": {
          "base_uri": "https://localhost:8080/"
        },
        "id": "HrMU5RKvX1i_",
        "outputId": "9976e9c0-3652-4546-b8b2-1d14e3a9da73"
      },
      "outputs": [
        {
          "output_type": "stream",
          "name": "stderr",
          "text": [
            "Loading chemical: 100%|██████████| 24/24 [00:02<00:00,  8.31it/s]\n",
            "Loading general waste: 100%|██████████| 76/76 [00:14<00:00,  5.42it/s]\n",
            "Loading infectious waste: 100%|██████████| 144/144 [00:00<00:00, 168.48it/s]\n",
            "Loading pharmacutical: 100%|██████████| 160/160 [00:00<00:00, 170.91it/s]\n",
            "Loading sharps: 100%|██████████| 364/364 [00:02<00:00, 160.99it/s]"
          ]
        },
        {
          "output_type": "stream",
          "name": "stdout",
          "text": [
            "chemical: 24 images\n",
            "general waste: 76 images\n",
            "infectious waste: 144 images\n",
            "pharmacutical: 160 images\n",
            "sharps: 364 images\n"
          ]
        },
        {
          "output_type": "stream",
          "name": "stderr",
          "text": [
            "\n"
          ]
        }
      ],
      "source": [
        "import cv2\n",
        "import numpy as np\n",
        "from tqdm import tqdm\n",
        "\n",
        "IMG_SIZE = 84  # target image size\n",
        "dataset = {}   # class-wise dictionary of images\n",
        "\n",
        "for class_name in class_names:\n",
        "    class_dir = os.path.join(train_path, class_name)\n",
        "    images = []\n",
        "\n",
        "    for img_file in tqdm(os.listdir(class_dir), desc=f\"Loading {class_name}\"):\n",
        "        img_path = os.path.join(class_dir, img_file)\n",
        "        img = cv2.imread(img_path)\n",
        "\n",
        "        if img is not None:\n",
        "            img = cv2.resize(img, (IMG_SIZE, IMG_SIZE))\n",
        "            img = cv2.cvtColor(img, cv2.COLOR_BGR2RGB)\n",
        "            img = img.astype(np.float32) / 255.0  # normalize to [0, 1]\n",
        "            images.append(img)\n",
        "\n",
        "    dataset[class_name] = images\n",
        "\n",
        "# Print number of images per class\n",
        "for cls in dataset:\n",
        "    print(f\"{cls}: {len(dataset[cls])} images\")"
      ]
    },
    {
      "cell_type": "markdown",
      "metadata": {
        "id": "c5iFtUjlZfWo"
      },
      "source": [
        "**Build a Task Sampler (Support & Query Set Generator)**"
      ]
    },
    {
      "cell_type": "code",
      "execution_count": null,
      "metadata": {
        "id": "eIQpWAm6YpTI"
      },
      "outputs": [],
      "source": [
        "import random\n",
        "\n",
        "def create_episode(dataset, n_way=5, k_shot=1, q_query=5):\n",
        "    \"\"\"\n",
        "    Creates one episode with support and query sets.\n",
        "\n",
        "    Args:\n",
        "        dataset (dict): Class-wise image dictionary.\n",
        "        n_way (int): Number of classes per task.\n",
        "        k_shot (int): Number of support images per class.\n",
        "        q_query (int): Number of query images per class.\n",
        "\n",
        "    Returns:\n",
        "        support_x, support_y, query_x, query_y: Lists of images and labels\n",
        "    \"\"\"\n",
        "    selected_classes = random.sample(list(dataset.keys()), n_way)\n",
        "    support_x, support_y = [], []\n",
        "    query_x, query_y = [], []\n",
        "\n",
        "    for label_idx, class_name in enumerate(selected_classes):\n",
        "        images = random.sample(dataset[class_name], k_shot + q_query)\n",
        "        support_imgs = images[:k_shot]\n",
        "        query_imgs = images[k_shot:]\n",
        "\n",
        "        support_x.extend(support_imgs)\n",
        "        support_y.extend([label_idx] * k_shot)\n",
        "\n",
        "        query_x.extend(query_imgs)\n",
        "        query_y.extend([label_idx] * q_query)\n",
        "\n",
        "    # Convert to numpy arrays\n",
        "    support_x = np.array(support_x)\n",
        "    support_y = np.array(support_y)\n",
        "    query_x = np.array(query_x)\n",
        "    query_y = np.array(query_y)\n",
        "\n",
        "    return support_x, support_y, query_x, query_y"
      ]
    },
    {
      "cell_type": "markdown",
      "metadata": {
        "id": "cgenVh20Z-h7"
      },
      "source": [
        "**Build the Reptile Model Architecture & Training Loop**"
      ]
    },
    {
      "cell_type": "code",
      "execution_count": null,
      "metadata": {
        "id": "_On2FSakZ0dZ"
      },
      "outputs": [],
      "source": [
        "import tensorflow as tf\n",
        "\n",
        "def build_cnn_model(input_shape=(84, 84, 3), num_classes=5):\n",
        "    model = tf.keras.Sequential([\n",
        "        tf.keras.layers.Conv2D(32, (3,3), activation='relu', padding='same', input_shape=input_shape),\n",
        "        tf.keras.layers.MaxPooling2D(2,2),\n",
        "\n",
        "        tf.keras.layers.Conv2D(64, (3,3), activation='relu', padding='same'),\n",
        "        tf.keras.layers.MaxPooling2D(2,2),\n",
        "\n",
        "        tf.keras.layers.Conv2D(128, (3,3), activation='relu', padding='same'),\n",
        "        tf.keras.layers.MaxPooling2D(2,2),\n",
        "\n",
        "        tf.keras.layers.Flatten(),\n",
        "        tf.keras.layers.Dense(256, activation='relu'),\n",
        "        tf.keras.layers.Dense(num_classes, activation='softmax')\n",
        "    ])\n",
        "    return model"
      ]
    },
    {
      "cell_type": "markdown",
      "metadata": {
        "id": "7nD4hg7YaYDV"
      },
      "source": [
        "**Compile and test CNN model on a sample episode**"
      ]
    },
    {
      "cell_type": "code",
      "execution_count": null,
      "metadata": {
        "colab": {
          "base_uri": "https://localhost:8080/"
        },
        "id": "vyZGxIjMaPCR",
        "outputId": "e49c14f5-55d5-4104-a817-714e83dae265"
      },
      "outputs": [
        {
          "output_type": "stream",
          "name": "stderr",
          "text": [
            "/usr/local/lib/python3.11/dist-packages/keras/src/backend/tensorflow/nn.py:708: UserWarning: \"`sparse_categorical_crossentropy` received `from_logits=True`, but the `output` argument was produced by a Softmax activation and thus does not represent logits. Was this intended?\n",
            "  output, from_logits = _get_logits(\n"
          ]
        },
        {
          "output_type": "stream",
          "name": "stdout",
          "text": [
            "\u001b[1m1/1\u001b[0m \u001b[32m━━━━━━━━━━━━━━━━━━━━\u001b[0m\u001b[37m\u001b[0m \u001b[1m3s\u001b[0m 3s/step - accuracy: 0.2000 - loss: 1.6013\n"
          ]
        },
        {
          "output_type": "execute_result",
          "data": {
            "text/plain": [
              "<keras.src.callbacks.history.History at 0x7fed8a36cb50>"
            ]
          },
          "metadata": {},
          "execution_count": 7
        }
      ],
      "source": [
        "import tensorflow as tf\n",
        "\n",
        "# Step 1: Build CNN model with explicit Input layer to avoid warnings\n",
        "def build_cnn_model(input_shape=(84, 84, 3), num_classes=5):\n",
        "    model = tf.keras.Sequential([\n",
        "        tf.keras.Input(shape=input_shape),  # Explicit Input layer\n",
        "        tf.keras.layers.Conv2D(32, (3, 3), activation='relu', padding='same'),\n",
        "        tf.keras.layers.MaxPooling2D(2, 2),\n",
        "\n",
        "        tf.keras.layers.Conv2D(64, (3, 3), activation='relu', padding='same'),\n",
        "        tf.keras.layers.MaxPooling2D(2, 2),\n",
        "\n",
        "        tf.keras.layers.Conv2D(128, (3, 3), activation='relu', padding='same'),\n",
        "        tf.keras.layers.MaxPooling2D(2, 2),\n",
        "\n",
        "        tf.keras.layers.Flatten(),\n",
        "        tf.keras.layers.Dense(256, activation='relu'),\n",
        "        tf.keras.layers.Dropout(0.5),\n",
        "\n",
        "        tf.keras.layers.Dense(num_classes, activation='softmax')\n",
        "    ])\n",
        "    return model\n",
        "\n",
        "# Step 2: Compile the model\n",
        "# model = build_cnn_model(input_shape=(84, 84, 3), num_classes=5)\n",
        "# model.compile(\n",
        "#     optimizer=tf.keras.optimizers.Adam(learning_rate=0.001),\n",
        "#     loss='sparse_categorical_crossentropy',\n",
        "#     metrics=['accuracy']\n",
        "# )\n",
        "\n",
        "# Create and compile model\n",
        "model = build_cnn_model(input_shape=(84, 84, 3),num_classes=5)\n",
        "model.compile(\n",
        "    optimizer=tf.keras.optimizers.Adam(),\n",
        "    loss=tf.keras.losses.SparseCategoricalCrossentropy(from_logits=True),\n",
        "    metrics=['accuracy']\n",
        ")\n",
        "\n",
        "# Initialize meta weights\n",
        "meta_weights = model.get_weights()\n",
        "\n",
        "\n",
        "# Step 3: Generate one episode (you should have this function from before)\n",
        "support_x, support_y, query_x, query_y = create_episode(dataset, n_way=5, k_shot=1, q_query=5)\n",
        "\n",
        "# Step 4: Train the model on support set for 1 epoch (quick test)\n",
        "model.fit(support_x, support_y, epochs=1)"
      ]
    },
    {
      "cell_type": "markdown",
      "metadata": {
        "id": "_DEOcORQb6So"
      },
      "source": [
        "**Code Weight**"
      ]
    },
    {
      "cell_type": "code",
      "execution_count": null,
      "metadata": {
        "id": "_hnw7ldEaf8V"
      },
      "outputs": [],
      "source": [
        "import copy\n",
        "\n",
        "# Helper: Get weights (deep copy)\n",
        "def get_weights(model):\n",
        "    return [w.numpy() for w in model.trainable_weights]\n",
        "\n",
        "# Helper: Set weights\n",
        "def set_weights(model, weights):\n",
        "    for var, w in zip(model.trainable_weights, weights):\n",
        "        var.assign(w)\n",
        "\n",
        "# Helper: Interpolate weights between initial and post-task weights\n",
        "def interpolate_weights(old_weights, new_weights, epsilon=0.1):\n",
        "    return [old + epsilon * (new - old) for old, new in zip(old_weights, new_weights)]"
      ]
    },
    {
      "cell_type": "code",
      "execution_count": null,
      "metadata": {
        "id": "hQIHe4dRb2iF"
      },
      "outputs": [],
      "source": [
        "import random\n",
        "import tensorflow as tf\n",
        "import os\n",
        "import numpy as np\n",
        "\n",
        "# Configs\n",
        "num_iterations = 1000        # Number of meta-training steps\n",
        "inner_epochs = 1             # How long we train on each task (inner loop)\n",
        "inner_batch_size = 8         # Batch size per task\n",
        "epsilon = 0.1                # Step size for Reptile update\n",
        "n_way = 3                    # Number of classes per task\n",
        "k_shot = 5                   # Number of images per class (support set)\n",
        "query_shot = 2               # Number of images per class (query set)"
      ]
    },
    {
      "cell_type": "code",
      "execution_count": null,
      "metadata": {
        "id": "vZfAUpejezXu"
      },
      "outputs": [],
      "source": [
        "from tensorflow.keras.preprocessing import image_dataset_from_directory\n",
        "\n",
        "def sample_task(dataset_path, n_way=3, k_shot=5, query_shot=2, img_size=(84, 84)):\n",
        "    class_names = random.sample(os.listdir(dataset_path), n_way)\n",
        "    support_images = []\n",
        "    support_labels = []\n",
        "    query_images = []\n",
        "    query_labels = []\n",
        "\n",
        "    label_map = {name: i for i, name in enumerate(class_names)}\n",
        "\n",
        "    for class_name in class_names:\n",
        "        class_dir = os.path.join(dataset_path, class_name)\n",
        "        image_files = os.listdir(class_dir)\n",
        "        selected = random.sample(image_files, k_shot + query_shot)\n",
        "\n",
        "        support = selected[:k_shot]\n",
        "        query = selected[k_shot:]\n",
        "\n",
        "        for img_name in support:\n",
        "            img_path = os.path.join(class_dir, img_name)\n",
        "            img = tf.keras.utils.load_img(img_path, target_size=img_size)\n",
        "            img = tf.keras.utils.img_to_array(img) / 255.0\n",
        "            support_images.append(img)\n",
        "            support_labels.append(label_map[class_name])\n",
        "\n",
        "        for img_name in query:\n",
        "            img_path = os.path.join(class_dir, img_name)\n",
        "            img = tf.keras.utils.load_img(img_path, target_size=img_size)\n",
        "            img = tf.keras.utils.img_to_array(img) / 255.0\n",
        "            query_images.append(img)\n",
        "            query_labels.append(label_map[class_name])\n",
        "\n",
        "    support_dataset = tf.data.Dataset.from_tensor_slices((support_images, support_labels))\n",
        "    query_dataset = tf.data.Dataset.from_tensor_slices((query_images, query_labels))\n",
        "\n",
        "    support_dataset = support_dataset.shuffle(100).batch(inner_batch_size)\n",
        "    query_dataset = query_dataset.shuffle(100).batch(inner_batch_size)\n",
        "\n",
        "    return support_dataset, query_dataset"
      ]
    },
    {
      "cell_type": "code",
      "execution_count": null,
      "metadata": {
        "colab": {
          "base_uri": "https://localhost:8080/"
        },
        "id": "eJVhmWpre9iS",
        "outputId": "d0c1d9aa-57c5-4123-d021-d2b64b0c69ce"
      },
      "outputs": [
        {
          "output_type": "stream",
          "name": "stdout",
          "text": [
            "Iteration 1/1000 done.\n",
            "Iteration 100/1000 done.\n",
            "Iteration 200/1000 done.\n",
            "Iteration 300/1000 done.\n",
            "Iteration 400/1000 done.\n",
            "Iteration 500/1000 done.\n",
            "Iteration 600/1000 done.\n",
            "Iteration 700/1000 done.\n",
            "Iteration 800/1000 done.\n",
            "Iteration 900/1000 done.\n",
            "Iteration 1000/1000 done.\n"
          ]
        }
      ],
      "source": [
        "optimizer = tf.keras.optimizers.Adam()\n",
        "\n",
        "# Main Reptile training loop\n",
        "for iteration in range(num_iterations):\n",
        "    # Step 1: Sample a task (N-way K-shot)\n",
        "    support_ds, _ = sample_task(\n",
        "        dataset_path=\"/content/drive/MyDrive/Year3 /Datasets/medical_dataset/Medical_Waste_Dataset/train\",\n",
        "        n_way=n_way, k_shot=k_shot, query_shot=query_shot\n",
        "    )\n",
        "\n",
        "    # Step 2: Save the initial weights\n",
        "    old_weights = get_weights(model)\n",
        "\n",
        "    # Step 3: Inner loop training on the support set\n",
        "    for epoch in range(inner_epochs):\n",
        "        for x_batch, y_batch in support_ds:\n",
        "            with tf.GradientTape() as tape:\n",
        "                logits = model(x_batch, training=True)\n",
        "                loss = tf.keras.losses.sparse_categorical_crossentropy(y_batch, logits, from_logits=True)\n",
        "                loss = tf.reduce_mean(loss)\n",
        "            grads = tape.gradient(loss, model.trainable_weights)\n",
        "            optimizer.apply_gradients(zip(grads, model.trainable_weights))\n",
        "\n",
        "    # Step 4: Get new weights after the inner update\n",
        "    new_weights = get_weights(model)\n",
        "\n",
        "    # Step 5: Reptile update: Move original weights toward new ones\n",
        "    updated_weights = interpolate_weights(old_weights, new_weights, epsilon=epsilon)\n",
        "    set_weights(model, updated_weights)\n",
        "\n",
        "    # Logging progress\n",
        "    if (iteration + 1) % 100 == 0 or iteration == 0:\n",
        "        print(f\"Iteration {iteration+1}/{num_iterations} done.\")"
      ]
    },
    {
      "cell_type": "code",
      "execution_count": null,
      "metadata": {
        "id": "LkkuS15HfpdE",
        "colab": {
          "base_uri": "https://localhost:8080/"
        },
        "outputId": "95dfb90a-2ae1-4ee4-fb52-a3957c065a57"
      },
      "outputs": [
        {
          "output_type": "error",
          "ename": "ValueError",
          "evalue": "Sample larger than population or is negative",
          "traceback": [
            "\u001b[0;31m---------------------------------------------------------------------------\u001b[0m",
            "\u001b[0;31mValueError\u001b[0m                                Traceback (most recent call last)",
            "\u001b[0;32m/tmp/ipython-input-12-3825538971.py\u001b[0m in \u001b[0;36m<cell line: 0>\u001b[0;34m()\u001b[0m\n\u001b[1;32m     32\u001b[0m \u001b[0;34m\u001b[0m\u001b[0m\n\u001b[1;32m     33\u001b[0m \u001b[0;31m# Example call\u001b[0m\u001b[0;34m\u001b[0m\u001b[0;34m\u001b[0m\u001b[0m\n\u001b[0;32m---> 34\u001b[0;31m evaluate_reptile_task(\n\u001b[0m\u001b[1;32m     35\u001b[0m     \u001b[0mmodel\u001b[0m\u001b[0;34m,\u001b[0m\u001b[0;34m\u001b[0m\u001b[0;34m\u001b[0m\u001b[0m\n\u001b[1;32m     36\u001b[0m     \u001b[0mdataset_path\u001b[0m\u001b[0;34m=\u001b[0m\u001b[0;34m\"/content/drive/MyDrive/Year3 /Datasets/medical_dataset/Medical_Waste_Dataset/test\"\u001b[0m\u001b[0;34m,\u001b[0m\u001b[0;34m\u001b[0m\u001b[0;34m\u001b[0m\u001b[0m\n",
            "\u001b[0;32m/tmp/ipython-input-12-3825538971.py\u001b[0m in \u001b[0;36mevaluate_reptile_task\u001b[0;34m(model, dataset_path, n_way, k_shot, query_shot, img_size)\u001b[0m\n\u001b[1;32m      1\u001b[0m \u001b[0;32mdef\u001b[0m \u001b[0mevaluate_reptile_task\u001b[0m\u001b[0;34m(\u001b[0m\u001b[0mmodel\u001b[0m\u001b[0;34m,\u001b[0m \u001b[0mdataset_path\u001b[0m\u001b[0;34m,\u001b[0m \u001b[0mn_way\u001b[0m\u001b[0;34m=\u001b[0m\u001b[0;36m3\u001b[0m\u001b[0;34m,\u001b[0m \u001b[0mk_shot\u001b[0m\u001b[0;34m=\u001b[0m\u001b[0;36m5\u001b[0m\u001b[0;34m,\u001b[0m \u001b[0mquery_shot\u001b[0m\u001b[0;34m=\u001b[0m\u001b[0;36m5\u001b[0m\u001b[0;34m,\u001b[0m \u001b[0mimg_size\u001b[0m\u001b[0;34m=\u001b[0m\u001b[0;34m(\u001b[0m\u001b[0;36m84\u001b[0m\u001b[0;34m,\u001b[0m \u001b[0;36m84\u001b[0m\u001b[0;34m)\u001b[0m\u001b[0;34m)\u001b[0m\u001b[0;34m:\u001b[0m\u001b[0;34m\u001b[0m\u001b[0;34m\u001b[0m\u001b[0m\n\u001b[1;32m      2\u001b[0m     \u001b[0;31m# Step 1: Sample task from validation or test set\u001b[0m\u001b[0;34m\u001b[0m\u001b[0;34m\u001b[0m\u001b[0m\n\u001b[0;32m----> 3\u001b[0;31m     support_ds, query_ds = sample_task(\n\u001b[0m\u001b[1;32m      4\u001b[0m         \u001b[0mdataset_path\u001b[0m\u001b[0;34m,\u001b[0m \u001b[0mn_way\u001b[0m\u001b[0;34m=\u001b[0m\u001b[0mn_way\u001b[0m\u001b[0;34m,\u001b[0m \u001b[0mk_shot\u001b[0m\u001b[0;34m=\u001b[0m\u001b[0mk_shot\u001b[0m\u001b[0;34m,\u001b[0m \u001b[0mquery_shot\u001b[0m\u001b[0;34m=\u001b[0m\u001b[0mquery_shot\u001b[0m\u001b[0;34m,\u001b[0m \u001b[0mimg_size\u001b[0m\u001b[0;34m=\u001b[0m\u001b[0mimg_size\u001b[0m\u001b[0;34m\u001b[0m\u001b[0;34m\u001b[0m\u001b[0m\n\u001b[1;32m      5\u001b[0m     )\n",
            "\u001b[0;32m/tmp/ipython-input-10-3736926645.py\u001b[0m in \u001b[0;36msample_task\u001b[0;34m(dataset_path, n_way, k_shot, query_shot, img_size)\u001b[0m\n\u001b[1;32m     13\u001b[0m         \u001b[0mclass_dir\u001b[0m \u001b[0;34m=\u001b[0m \u001b[0mos\u001b[0m\u001b[0;34m.\u001b[0m\u001b[0mpath\u001b[0m\u001b[0;34m.\u001b[0m\u001b[0mjoin\u001b[0m\u001b[0;34m(\u001b[0m\u001b[0mdataset_path\u001b[0m\u001b[0;34m,\u001b[0m \u001b[0mclass_name\u001b[0m\u001b[0;34m)\u001b[0m\u001b[0;34m\u001b[0m\u001b[0;34m\u001b[0m\u001b[0m\n\u001b[1;32m     14\u001b[0m         \u001b[0mimage_files\u001b[0m \u001b[0;34m=\u001b[0m \u001b[0mos\u001b[0m\u001b[0;34m.\u001b[0m\u001b[0mlistdir\u001b[0m\u001b[0;34m(\u001b[0m\u001b[0mclass_dir\u001b[0m\u001b[0;34m)\u001b[0m\u001b[0;34m\u001b[0m\u001b[0;34m\u001b[0m\u001b[0m\n\u001b[0;32m---> 15\u001b[0;31m         \u001b[0mselected\u001b[0m \u001b[0;34m=\u001b[0m \u001b[0mrandom\u001b[0m\u001b[0;34m.\u001b[0m\u001b[0msample\u001b[0m\u001b[0;34m(\u001b[0m\u001b[0mimage_files\u001b[0m\u001b[0;34m,\u001b[0m \u001b[0mk_shot\u001b[0m \u001b[0;34m+\u001b[0m \u001b[0mquery_shot\u001b[0m\u001b[0;34m)\u001b[0m\u001b[0;34m\u001b[0m\u001b[0;34m\u001b[0m\u001b[0m\n\u001b[0m\u001b[1;32m     16\u001b[0m \u001b[0;34m\u001b[0m\u001b[0m\n\u001b[1;32m     17\u001b[0m         \u001b[0msupport\u001b[0m \u001b[0;34m=\u001b[0m \u001b[0mselected\u001b[0m\u001b[0;34m[\u001b[0m\u001b[0;34m:\u001b[0m\u001b[0mk_shot\u001b[0m\u001b[0;34m]\u001b[0m\u001b[0;34m\u001b[0m\u001b[0;34m\u001b[0m\u001b[0m\n",
            "\u001b[0;32m/usr/lib/python3.11/random.py\u001b[0m in \u001b[0;36msample\u001b[0;34m(self, population, k, counts)\u001b[0m\n\u001b[1;32m    454\u001b[0m         \u001b[0mrandbelow\u001b[0m \u001b[0;34m=\u001b[0m \u001b[0mself\u001b[0m\u001b[0;34m.\u001b[0m\u001b[0m_randbelow\u001b[0m\u001b[0;34m\u001b[0m\u001b[0;34m\u001b[0m\u001b[0m\n\u001b[1;32m    455\u001b[0m         \u001b[0;32mif\u001b[0m \u001b[0;32mnot\u001b[0m \u001b[0;36m0\u001b[0m \u001b[0;34m<=\u001b[0m \u001b[0mk\u001b[0m \u001b[0;34m<=\u001b[0m \u001b[0mn\u001b[0m\u001b[0;34m:\u001b[0m\u001b[0;34m\u001b[0m\u001b[0;34m\u001b[0m\u001b[0m\n\u001b[0;32m--> 456\u001b[0;31m             \u001b[0;32mraise\u001b[0m \u001b[0mValueError\u001b[0m\u001b[0;34m(\u001b[0m\u001b[0;34m\"Sample larger than population or is negative\"\u001b[0m\u001b[0;34m)\u001b[0m\u001b[0;34m\u001b[0m\u001b[0;34m\u001b[0m\u001b[0m\n\u001b[0m\u001b[1;32m    457\u001b[0m         \u001b[0mresult\u001b[0m \u001b[0;34m=\u001b[0m \u001b[0;34m[\u001b[0m\u001b[0;32mNone\u001b[0m\u001b[0;34m]\u001b[0m \u001b[0;34m*\u001b[0m \u001b[0mk\u001b[0m\u001b[0;34m\u001b[0m\u001b[0;34m\u001b[0m\u001b[0m\n\u001b[1;32m    458\u001b[0m         \u001b[0msetsize\u001b[0m \u001b[0;34m=\u001b[0m \u001b[0;36m21\u001b[0m        \u001b[0;31m# size of a small set minus size of an empty list\u001b[0m\u001b[0;34m\u001b[0m\u001b[0;34m\u001b[0m\u001b[0m\n",
            "\u001b[0;31mValueError\u001b[0m: Sample larger than population or is negative"
          ]
        }
      ],
      "source": [
        "def evaluate_reptile_task(model, dataset_path, n_way=3, k_shot=5, query_shot=5, img_size=(84, 84)):\n",
        "    # Step 1: Sample task from validation or test set\n",
        "    support_ds, query_ds = sample_task(\n",
        "        dataset_path, n_way=n_way, k_shot=k_shot, query_shot=query_shot, img_size=img_size\n",
        "    )\n",
        "\n",
        "    # Step 2: Create a copy of the model for adaptation\n",
        "    eval_model = tf.keras.models.clone_model(model)\n",
        "    eval_model.set_weights(get_weights(model))\n",
        "\n",
        "    # Step 3: Fine-tune the copied model on support set\n",
        "    optimizer = tf.keras.optimizers.Adam()\n",
        "    for x_batch, y_batch in support_ds:\n",
        "        with tf.GradientTape() as tape:\n",
        "            logits = eval_model(x_batch, training=True)\n",
        "            loss = tf.keras.losses.sparse_categorical_crossentropy(y_batch, logits, from_logits=True)\n",
        "            loss = tf.reduce_mean(loss)\n",
        "        grads = tape.gradient(loss, eval_model.trainable_weights)\n",
        "        optimizer.apply_gradients(zip(grads, eval_model.trainable_weights))\n",
        "\n",
        "    # Step 4: Evaluate on query set\n",
        "    total = 0\n",
        "    correct = 0\n",
        "    for x_batch, y_batch in query_ds:\n",
        "        logits = eval_model(x_batch, training=False)\n",
        "        preds = tf.argmax(logits, axis=1)\n",
        "        correct += tf.reduce_sum(tf.cast(preds == tf.cast(y_batch, tf.int64), tf.int32)).numpy()\n",
        "        total += y_batch.shape[0]\n",
        "\n",
        "    accuracy = correct / total\n",
        "    print(f\"Meta-Test Accuracy on New Task: {accuracy * 100:.2f}%\")\n",
        "\n",
        "# Example call\n",
        "evaluate_reptile_task(\n",
        "    model,\n",
        "    dataset_path=\"/content/drive/MyDrive/Year3 /Datasets/medical_dataset/Medical_Waste_Dataset/test\",\n",
        "    n_way=3, k_shot=5, query_shot=5\n",
        ")"
      ]
    },
    {
      "cell_type": "code",
      "execution_count": null,
      "metadata": {
        "id": "cV3ZMPFvN-pX"
      },
      "outputs": [],
      "source": [
        "# def create_base_model(num_classes):\n",
        "#     model = tf.keras.Sequential([\n",
        "#         tf.keras.layers.Input(shape=(84, 84, 3)),\n",
        "#         tf.keras.layers.Conv2D(32, (3, 3), activation='relu'),\n",
        "#         tf.keras.layers.MaxPooling2D(),\n",
        "#         tf.keras.layers.Conv2D(64, (3, 3), activation='relu'),\n",
        "#         tf.keras.layers.MaxPooling2D(),\n",
        "#         tf.keras.layers.Flatten(),\n",
        "#         tf.keras.layers.Dense(128, activation='relu'),\n",
        "#         tf.keras.layers.Dense(num_classes)  # No softmax: logits used for sparse_categorical_crossentropy with from_logits=True\n",
        "#     ])\n",
        "#     return model\n",
        "\n",
        "def create_base_model(num_classes=5):\n",
        "    model = tf.keras.Sequential([\n",
        "        tf.keras.layers.Input(shape=(224, 224, 3)),\n",
        "        tf.keras.layers.Conv2D(32, (3,3), activation='relu'),\n",
        "        tf.keras.layers.MaxPooling2D((2,2)),\n",
        "        tf.keras.layers.Conv2D(64, (3,3), activation='relu'),\n",
        "        tf.keras.layers.MaxPooling2D((2,2)),\n",
        "        tf.keras.layers.Conv2D(128, (3,3), activation='relu'),\n",
        "        tf.keras.layers.MaxPooling2D((2,2)),\n",
        "        tf.keras.layers.Flatten(),\n",
        "        tf.keras.layers.Dense(128, activation='relu'),\n",
        "        tf.keras.layers.Dense(num_classes)  # no softmax if using from_logits=True\n",
        "    ])\n",
        "    model.compile(\n",
        "        optimizer='adam',\n",
        "        loss=tf.keras.losses.SparseCategoricalCrossentropy(from_logits=True),\n",
        "        metrics=['accuracy']\n",
        "    )\n",
        "    return model\n",
        "\n"
      ]
    },
    {
      "cell_type": "markdown",
      "metadata": {
        "id": "-FNFgo65NLjx"
      },
      "source": [
        "**Modify Reptile Training Loop to Log Metrics**"
      ]
    },
    {
      "cell_type": "code",
      "execution_count": null,
      "metadata": {
        "id": "LP2VkMlZZ3Uj"
      },
      "outputs": [],
      "source": [
        "import os\n",
        "import random\n",
        "import tensorflow as tf\n",
        "\n",
        "# Define dataset path\n",
        "train_ds = \"/content/drive/MyDrive/Year3 /Datasets/medical_dataset/Medical_Waste_Dataset/train\"\n",
        "\n",
        "def sample_task(dataset_path, num_classes=5, shots=5, img_size=(224, 224), batch_size=16):\n",
        "    class_names = os.listdir(dataset_path)\n",
        "    selected_classes = random.sample(class_names, num_classes)\n",
        "\n",
        "    support_images = []\n",
        "    support_labels = []\n",
        "    query_images = []\n",
        "    query_labels = []\n",
        "\n",
        "    label_map = {cls_name: idx for idx, cls_name in enumerate(selected_classes)}\n",
        "\n",
        "    for cls_name in selected_classes:\n",
        "        cls_path = os.path.join(dataset_path, cls_name)\n",
        "        image_paths = [os.path.join(cls_path, fname) for fname in os.listdir(cls_path)]\n",
        "        selected_images = random.sample(image_paths, shots + 1)  # 1 for query\n",
        "\n",
        "        for i, img_path in enumerate(selected_images):\n",
        "            img = tf.keras.preprocessing.image.load_img(img_path, target_size=img_size)\n",
        "            img = tf.keras.preprocessing.image.img_to_array(img) / 255.0\n",
        "            label = label_map[cls_name]\n",
        "\n",
        "            if i < shots:\n",
        "                support_images.append(img)\n",
        "                support_labels.append(label)\n",
        "            else:\n",
        "                query_images.append(img)\n",
        "                query_labels.append(label)\n",
        "\n",
        "    support_ds = tf.data.Dataset.from_tensor_slices((support_images, support_labels)).batch(batch_size)\n",
        "    query_ds = tf.data.Dataset.from_tensor_slices((query_images, query_labels)).batch(batch_size)\n",
        "\n",
        "    return support_ds, query_ds\n",
        "\n",
        "\n",
        "\n",
        "model = create_base_model(num_classes=5)\n",
        "meta_weights = model.get_weights()\n",
        "\n",
        "support_ds, query_ds = sample_task(train_ds, num_classes=5, shots=5)\n",
        "model.set_weights(meta_weights)\n",
        "model.fit(support_ds, epochs=1, verbose=0)\n",
        "\n",
        "\n",
        "# # Run sample task\n",
        "# support_ds, query_ds = sample_task(train_ds, num_classes=5, shots=5)\n",
        "# model.set_weights(meta_weights)\n",
        "# model.fit(support_ds, epochs=1, verbose=0)\n"
      ]
    },
    {
      "cell_type": "code",
      "execution_count": null,
      "metadata": {
        "id": "Hf9qoUwDRai9"
      },
      "outputs": [],
      "source": [
        "import os\n",
        "import random\n",
        "import tensorflow as tf\n",
        "\n",
        "def sample_task(dataset_path, num_classes=5, shots=5, img_size=(224, 224), batch_size=16):\n",
        "    class_names = os.listdir(dataset_path)\n",
        "    selected_classes = random.sample(class_names, num_classes)\n",
        "\n",
        "    support_images = []\n",
        "    support_labels = []\n",
        "    query_images = []\n",
        "    query_labels = []\n",
        "\n",
        "    label_map = {cls_name: idx for idx, cls_name in enumerate(selected_classes)}\n",
        "\n",
        "    for cls_name in selected_classes:\n",
        "        cls_path = os.path.join(dataset_path, cls_name)\n",
        "        image_paths = [os.path.join(cls_path, fname) for fname in os.listdir(cls_path)]\n",
        "        selected_images = random.sample(image_paths, shots + 1)  # 1 for query\n",
        "\n",
        "        for i, img_path in enumerate(selected_images):\n",
        "            img = tf.keras.preprocessing.image.load_img(img_path, target_size=img_size)\n",
        "            img = tf.keras.preprocessing.image.img_to_array(img) / 255.0\n",
        "            label = label_map[cls_name]\n",
        "\n",
        "            if i < shots:\n",
        "                support_images.append(img)\n",
        "                support_labels.append(label)\n",
        "            else:\n",
        "                query_images.append(img)\n",
        "                query_labels.append(label)\n",
        "\n",
        "    support_ds = tf.data.Dataset.from_tensor_slices((support_images, support_labels)).batch(batch_size)\n",
        "    query_ds = tf.data.Dataset.from_tensor_slices((query_images, query_labels)).batch(batch_size)\n",
        "\n",
        "    return support_ds, query_ds\n",
        "\n",
        "support_ds, query_ds = sample_task(train_ds, num_classes=5, shots=5)\n",
        "model.set_weights(meta_weights)\n",
        "model.fit(support_ds, epochs=1, verbose=0)\n",
        "\n"
      ]
    },
    {
      "cell_type": "code",
      "execution_count": null,
      "metadata": {
        "id": "qPBoErp3RjkJ"
      },
      "outputs": [],
      "source": [
        "# Load final weights into model\n",
        "model.set_weights(meta_weights)\n",
        "\n",
        "# Evaluate on 10 new few-shot tasks\n",
        "eval_accuracies = []\n",
        "\n",
        "for _ in range(100):\n",
        "    support_ds, query_ds = sample_task(train_path, num_classes=5, shots=5)\n",
        "    model.set_weights(meta_weights)\n",
        "    model.compile(optimizer='adam', loss='sparse_categorical_crossentropy', metrics=['accuracy'])\n",
        "    model.fit(support_ds, epochs=1, verbose=0)\n",
        "    meta_weights = model.get_weights()  # Reptile update\n",
        "\n",
        "\n",
        "base_model = tf.keras.applications.MobileNetV2(input_shape=(224, 224, 3),\n",
        "                                               include_top=False,\n",
        "                                               weights='imagenet',\n",
        "                                               pooling='avg')\n",
        "\n",
        "for layer in base_model.layers:\n",
        "    layer.trainable = False  # Freeze base\n",
        "\n",
        "model = tf.keras.Sequential([\n",
        "    base_model,\n",
        "    tf.keras.layers.Dense(256, activation='relu'),\n",
        "    tf.keras.layers.Dropout(0.3),\n",
        "    tf.keras.layers.Dense(5, activation='softmax')\n",
        "])\n",
        "\n",
        "\n",
        "\n",
        "\n",
        "# for _ in range(100):\n",
        "#     support_ds, query_ds = sample_task(train_ds, num_classes=5, shots=5)\n",
        "#     model.fit(support_ds, epochs=1, verbose=0)\n",
        "\n",
        "#     correct = 0\n",
        "#     total = 0\n",
        "\n",
        "#     for x_batch, y_batch in query_ds:\n",
        "#         logits = model(x_batch, training=False)\n",
        "#         preds = tf.argmax(logits, axis=1)\n",
        "#         y_batch = tf.cast(y_batch, tf.int64)\n",
        "#         correct += tf.reduce_sum(tf.cast(preds == y_batch, tf.int32)).numpy()\n",
        "#         total += y_batch.shape[0]\n",
        "\n",
        "#     eval_accuracy = correct / total\n",
        "#     eval_accuracies.append(eval_accuracy)\n",
        "\n",
        "# # Print average accuracy over evaluation tasks\n",
        "# avg_eval_accuracy = sum(eval_accuracies) / len(eval_accuracies)\n",
        "# print(f\"Average Evaluation Accuracy over 10 tasks: {avg_eval_accuracy:.4f}\")\n"
      ]
    },
    {
      "cell_type": "code",
      "execution_count": null,
      "metadata": {
        "colab": {
          "base_uri": "https://localhost:8080/",
          "height": 924
        },
        "id": "p3Ejs7bZW-8W",
        "outputId": "c48ec718-2412-47ae-9420-83f224d8cf0e"
      },
      "outputs": [
        {
          "output_type": "display_data",
          "data": {
            "text/plain": [
              "<Figure size 600x500 with 2 Axes>"
            ],
            "image/png": "[encoded data removed]"
          },
          "metadata": {}
        },
        {
          "output_type": "stream",
          "name": "stdout",
          "text": [
            "Accuracy: 0.2000\n",
            "Recall (macro): 0.2000\n",
            "F1-score (macro): 0.0667\n",
            "\n",
            "Classification Report:\n",
            "\n",
            "              precision    recall  f1-score   support\n",
            "\n",
            "           0       0.00      0.00      0.00         1\n",
            "           1       0.00      0.00      0.00         1\n",
            "           2       0.00      0.00      0.00         1\n",
            "           3       0.00      0.00      0.00         1\n",
            "           4       0.20      1.00      0.33         1\n",
            "\n",
            "    accuracy                           0.20         5\n",
            "   macro avg       0.04      0.20      0.07         5\n",
            "weighted avg       0.04      0.20      0.07         5\n",
            "\n"
          ]
        },
        {
          "output_type": "stream",
          "name": "stderr",
          "text": [
            "/usr/local/lib/python3.11/dist-packages/sklearn/metrics/_classification.py:1565: UndefinedMetricWarning: Precision is ill-defined and being set to 0.0 in labels with no predicted samples. Use `zero_division` parameter to control this behavior.\n",
            "  _warn_prf(average, modifier, f\"{metric.capitalize()} is\", len(result))\n",
            "/usr/local/lib/python3.11/dist-packages/sklearn/metrics/_classification.py:1565: UndefinedMetricWarning: Precision is ill-defined and being set to 0.0 in labels with no predicted samples. Use `zero_division` parameter to control this behavior.\n",
            "  _warn_prf(average, modifier, f\"{metric.capitalize()} is\", len(result))\n",
            "/usr/local/lib/python3.11/dist-packages/sklearn/metrics/_classification.py:1565: UndefinedMetricWarning: Precision is ill-defined and being set to 0.0 in labels with no predicted samples. Use `zero_division` parameter to control this behavior.\n",
            "  _warn_prf(average, modifier, f\"{metric.capitalize()} is\", len(result))\n"
          ]
        }
      ],
      "source": [
        "from sklearn.metrics import confusion_matrix, classification_report, accuracy_score, recall_score, f1_score\n",
        "import tensorflow as tf\n",
        "import seaborn as sns\n",
        "import matplotlib.pyplot as plt\n",
        "from sklearn.metrics import confusion_matrix, classification_report, accuracy_score, recall_score, f1_score\n",
        "\n",
        "\n",
        "y_true_all = []\n",
        "y_pred_all = []\n",
        "\n",
        "for x_batch, y_batch in query_ds:\n",
        "    logits = model(x_batch, training=False)\n",
        "    preds = tf.argmax(logits, axis=1)\n",
        "\n",
        "    y_true_all.extend(y_batch.numpy())\n",
        "    y_pred_all.extend(preds.numpy())\n",
        "\n",
        "\n",
        "\n",
        "\n",
        "\n",
        "# Confusion Matrix\n",
        "cm = confusion_matrix(y_true_all, y_pred_all)\n",
        "plt.figure(figsize=(6, 5))\n",
        "sns.heatmap(cm, annot=True, fmt=\"d\", cmap=\"Blues\")\n",
        "plt.title(\"Confusion Matrix\")\n",
        "plt.xlabel(\"Predicted\")\n",
        "plt.ylabel(\"True\")\n",
        "plt.show()\n",
        "\n",
        "# Evaluation Metrics\n",
        "accuracy = accuracy_score(y_true_all, y_pred_all)\n",
        "recall = recall_score(y_true_all, y_pred_all, average='macro')\n",
        "f1 = f1_score(y_true_all, y_pred_all, average='macro')\n",
        "\n",
        "print(f\"Accuracy: {accuracy:.4f}\")\n",
        "print(f\"Recall (macro): {recall:.4f}\")\n",
        "print(f\"F1-score (macro): {f1:.4f}\")\n",
        "print(\"\\nClassification Report:\\n\")\n",
        "print(classification_report(y_true_all, y_pred_all))\n"
      ]
    },
    {
      "cell_type": "code",
      "execution_count": null,
      "metadata": {
        "colab": {
          "base_uri": "https://localhost:8080/"
        },
        "id": "Gmozbk4kRjgB",
        "outputId": "7114867a-278c-4b74-e269-035716c98bc5"
      },
      "outputs": [
        {
          "output_type": "stream",
          "name": "stderr",
          "text": [
            "WARNING:absl:You are saving your model as an HDF5 file via `model.save()` or `keras.saving.save_model(model)`. This file format is considered legacy. We recommend using instead the native Keras format, e.g. `model.save('my_model.keras')` or `keras.saving.save_model(model, 'my_model.keras')`. \n"
          ]
        }
      ],
      "source": [
        "import pickle\n",
        "\n",
        "model.save(\"model.h5\")\n"
      ]
    },
    {
      "cell_type": "code",
      "execution_count": null,
      "metadata": {
        "id": "o3JlolAGRjcz"
      },
      "outputs": [],
      "source": [
        "import pickle\n",
        "\n",
        "# Save weights as list\n",
        "weights = model.get_weights()\n",
        "with open(\"model_weights.pkl\", \"wb\") as f:\n",
        "    pickle.dump(weights, f)\n"
      ]
    },
    {
      "cell_type": "code",
      "execution_count": null,
      "metadata": {
        "id": "7iePQ6XERjaH"
      },
      "outputs": [],
      "source": []
    },
    {
      "cell_type": "code",
      "execution_count": null,
      "metadata": {
        "colab": {
          "base_uri": "https://localhost:8080/",
          "height": 211
        },
        "id": "wijVtAum6mEA",
        "outputId": "28e8e02e-014e-4304-da06-932aec2b58ff"
      },
      "outputs": [
        {
          "ename": "TypeError",
          "evalue": "sample_task() got an unexpected keyword argument 'num_classes'",
          "output_type": "error",
          "traceback": [
            "\u001b[0;31m---------------------------------------------------------------------------\u001b[0m",
            "\u001b[0;31mTypeError\u001b[0m                                 Traceback (most recent call last)",
            "\u001b[0;32m<ipython-input-18-e6b773bb41d0>\u001b[0m in \u001b[0;36m<cell line: 0>\u001b[0;34m()\u001b[0m\n\u001b[1;32m     22\u001b[0m \u001b[0;34m\u001b[0m\u001b[0m\n\u001b[1;32m     23\u001b[0m     \u001b[0;31m# Sample task\u001b[0m\u001b[0;34m\u001b[0m\u001b[0;34m\u001b[0m\u001b[0m\n\u001b[0;32m---> 24\u001b[0;31m     \u001b[0msupport_ds\u001b[0m\u001b[0;34m,\u001b[0m \u001b[0mquery_ds\u001b[0m \u001b[0;34m=\u001b[0m \u001b[0msample_task\u001b[0m\u001b[0;34m(\u001b[0m\u001b[0mtrain_ds\u001b[0m\u001b[0;34m,\u001b[0m \u001b[0mnum_classes\u001b[0m\u001b[0;34m=\u001b[0m\u001b[0;36m5\u001b[0m\u001b[0;34m,\u001b[0m \u001b[0mshots\u001b[0m\u001b[0;34m=\u001b[0m\u001b[0;36m5\u001b[0m\u001b[0;34m)\u001b[0m\u001b[0;34m\u001b[0m\u001b[0;34m\u001b[0m\u001b[0m\n\u001b[0m\u001b[1;32m     25\u001b[0m \u001b[0;34m\u001b[0m\u001b[0m\n\u001b[1;32m     26\u001b[0m     \u001b[0;31m# Train on support set\u001b[0m\u001b[0;34m\u001b[0m\u001b[0;34m\u001b[0m\u001b[0m\n",
            "\u001b[0;31mTypeError\u001b[0m: sample_task() got an unexpected keyword argument 'num_classes'"
          ]
        }
      ],
      "source": [
        "# import matplotlib.pyplot as plt\n",
        "# import tensorflow as tf\n",
        "\n",
        "# train_ds = \"/content/drive/MyDrive/Year3 /Datasets/medical_dataset/Medical_Waste_Dataset/train\"\n",
        "\n",
        "# # Re-initialize the base model (if not already)\n",
        "# model = create_base_model(num_classes=5)\n",
        "\n",
        "# # Initialize meta weights from the base model\n",
        "# meta_weights = model.get_weights()\n",
        "\n",
        "# # Set your meta-learning rate\n",
        "# meta_step_size = 0.1\n",
        "\n",
        "# # Logging lists\n",
        "# losses = []\n",
        "# accuracies = []\n",
        "\n",
        "# # Reptile training loop\n",
        "# for iteration in range(1000):\n",
        "#     model.set_weights(meta_weights)\n",
        "\n",
        "#     # Sample task\n",
        "#     support_ds, query_ds = sample_task(train_ds, num_classes=5, shots=5)\n",
        "\n",
        "#     # Train on support set\n",
        "#     model.fit(support_ds, epochs=1, verbose=0)\n",
        "\n",
        "#     # Evaluate on query set\n",
        "#     correct = 0\n",
        "#     total = 0\n",
        "#     loss_metric = tf.keras.metrics.Mean()\n",
        "\n",
        "#     for x_batch, y_batch in query_ds:\n",
        "#         logits = model(x_batch, training=False)\n",
        "#         loss = tf.keras.losses.sparse_categorical_crossentropy(\n",
        "#             y_batch, logits, from_logits=True\n",
        "#         )\n",
        "#         preds = tf.argmax(logits, axis=1)\n",
        "#         y_batch = tf.cast(y_batch, tf.int64)\n",
        "#         correct += tf.reduce_sum(tf.cast(preds == y_batch, tf.int32)).numpy()\n",
        "#         total += y_batch.shape[0]\n",
        "#         loss_metric.update_state(loss)\n",
        "\n",
        "#     accuracy = correct / total\n",
        "#     losses.append(loss_metric.result().numpy())\n",
        "#     accuracies.append(accuracy)\n",
        "\n",
        "#     # Meta-update: update meta-weights\n",
        "#     new_weights = model.get_weights()\n",
        "#     meta_weights = [(1 - meta_step_size) * old + meta_step_size * new\n",
        "#                     for old, new in zip(meta_weights, new_weights)]\n",
        "\n",
        "#     if (iteration + 1) % 100 == 0:\n",
        "#         print(f\"Iteration {iteration + 1}/1000 - Loss: {loss_metric.result():.4f} - Accuracy: {accuracy:.4f}\")\n"
      ]
    },
    {
      "cell_type": "code",
      "execution_count": null,
      "metadata": {
        "id": "MmwNDscLPPxg"
      },
      "outputs": [],
      "source": []
    },
    {
      "cell_type": "markdown",
      "source": [
        "**version 2**"
      ],
      "metadata": {
        "id": "kofDdu-2QyBX"
      }
    },
    {
      "cell_type": "code",
      "execution_count": null,
      "metadata": {
        "id": "F82t8QmrPPu6"
      },
      "outputs": [],
      "source": [
        "import os\n",
        "import random\n",
        "import numpy as np\n",
        "import tensorflow as tf\n",
        "from tensorflow.keras.preprocessing import image\n",
        "from tensorflow.keras.applications import MobileNetV2\n",
        "from tensorflow.keras.layers import Dense, Dropout\n",
        "from tensorflow.keras.models import Sequential\n",
        "from sklearn.metrics import classification_report, confusion_matrix, accuracy_score, recall_score, f1_score\n",
        "import matplotlib.pyplot as plt\n",
        "import seaborn as sns\n"
      ]
    },
    {
      "cell_type": "code",
      "source": [
        "img_size = (224, 224)\n",
        "train_path = \"/content/drive/MyDrive/Datasets/Extracted/Pharmaceutical_and_Biomedical_Waste\"\n",
        "num_meta_iterations = 100  # ↑ Increase this\n",
        "num_classes = 5\n",
        "shots = 5\n"
      ],
      "metadata": {
        "id": "ssLbV6YgwUu_"
      },
      "execution_count": null,
      "outputs": []
    },
    {
      "cell_type": "code",
      "source": [
        "def build_model(num_classes=5):\n",
        "    base_model = MobileNetV2(input_shape=(224, 224, 3), include_top=False, weights='imagenet', pooling='avg')\n",
        "    base_model.trainable = False\n",
        "\n",
        "    model = Sequential([\n",
        "        base_model,\n",
        "        Dense(256, activation='relu'),\n",
        "        Dropout(0.3),\n",
        "        Dense(num_classes, activation='softmax')\n",
        "    ])\n",
        "    return model\n"
      ],
      "metadata": {
        "id": "kC1f662dwVtt"
      },
      "execution_count": null,
      "outputs": []
    },
    {
      "cell_type": "code",
      "source": [
        "def sample_task(data_path, num_classes=5, shots=5):\n",
        "    class_names = os.listdir(data_path)\n",
        "    selected_classes = random.sample(class_names, num_classes)\n",
        "\n",
        "    support_images, support_labels = [], []\n",
        "    query_images, query_labels = [], []\n",
        "\n",
        "    for idx, cls in enumerate(selected_classes):\n",
        "        class_path = os.path.join(data_path, cls)\n",
        "        all_images = os.listdir(class_path)\n",
        "        selected_images = random.sample(all_images, shots * 2)  # 2x shots (support + query)\n",
        "\n",
        "        for i in range(shots):\n",
        "            img = image.load_img(os.path.join(class_path, selected_images[i]), target_size=img_size)\n",
        "            img = image.img_to_array(img) / 255.0\n",
        "            img = tf.image.random_flip_left_right(img)\n",
        "            img = tf.image.random_brightness(img, max_delta=0.1)\n",
        "            support_images.append(img)\n",
        "            support_labels.append(idx)\n",
        "\n",
        "        for i in range(shots, shots * 2):\n",
        "            img = image.load_img(os.path.join(class_path, selected_images[i]), target_size=img_size)\n",
        "            img = image.img_to_array(img) / 255.0\n",
        "            img = tf.image.random_flip_left_right(img)\n",
        "            img = tf.image.random_brightness(img, max_delta=0.1)\n",
        "            query_images.append(img)\n",
        "            query_labels.append(idx)\n",
        "\n",
        "    support_ds = tf.data.Dataset.from_tensor_slices((np.array(support_images), np.array(support_labels))).batch(5)\n",
        "    query_ds = tf.data.Dataset.from_tensor_slices((np.array(query_images), np.array(query_labels))).batch(5)\n",
        "\n",
        "    return support_ds, query_ds\n"
      ],
      "metadata": {
        "id": "jrh5W5w5wZyJ"
      },
      "execution_count": null,
      "outputs": []
    },
    {
      "cell_type": "code",
      "source": [
        "# Initialize model and build it with dummy input\n",
        "model = build_model(num_classes)\n",
        "model.build(input_shape=(None, 224, 224, 3))\n",
        "meta_weights = model.get_weights()\n",
        "\n",
        "# Meta-training loop\n",
        "for iteration in range(num_meta_iterations):\n",
        "    support_ds, query_ds = sample_task(train_path, num_classes=num_classes, shots=shots)\n",
        "\n",
        "    # Set model weights and compile for each task\n",
        "    model.set_weights(meta_weights)\n",
        "    model.compile(optimizer='adam', loss='sparse_categorical_crossentropy', metrics=['accuracy'])\n",
        "\n",
        "    # Train on the support set\n",
        "    model.fit(support_ds, epochs=1, verbose=0)\n",
        "\n",
        "    # Get new weights after training on this task\n",
        "    new_weights = model.get_weights()\n",
        "\n",
        "    # Reptile update: blend old and new weights\n",
        "    updated_weights = [meta_w + 0.1 * (new_w - meta_w) for meta_w, new_w in zip(meta_weights, new_weights)]\n",
        "    meta_weights = updated_weights\n",
        "\n",
        "    if iteration % 10 == 0:\n",
        "        print(f\"Completed {iteration}/{num_meta_iterations} iterations\")\n"
      ],
      "metadata": {
        "colab": {
          "base_uri": "https://localhost:8080/",
          "height": 356
        },
        "id": "A1fU5RayweDz",
        "outputId": "d6d51cb6-91f5-401c-a9eb-7d0ec9896272"
      },
      "execution_count": null,
      "outputs": [
        {
          "output_type": "error",
          "ename": "ValueError",
          "evalue": "Sample larger than population or is negative",
          "traceback": [
            "\u001b[0;31m---------------------------------------------------------------------------\u001b[0m",
            "\u001b[0;31mValueError\u001b[0m                                Traceback (most recent call last)",
            "\u001b[0;32m<ipython-input-60-cc468e527dcc>\u001b[0m in \u001b[0;36m<cell line: 0>\u001b[0;34m()\u001b[0m\n\u001b[1;32m      6\u001b[0m \u001b[0;31m# Meta-training loop\u001b[0m\u001b[0;34m\u001b[0m\u001b[0;34m\u001b[0m\u001b[0m\n\u001b[1;32m      7\u001b[0m \u001b[0;32mfor\u001b[0m \u001b[0miteration\u001b[0m \u001b[0;32min\u001b[0m \u001b[0mrange\u001b[0m\u001b[0;34m(\u001b[0m\u001b[0mnum_meta_iterations\u001b[0m\u001b[0;34m)\u001b[0m\u001b[0;34m:\u001b[0m\u001b[0;34m\u001b[0m\u001b[0;34m\u001b[0m\u001b[0m\n\u001b[0;32m----> 8\u001b[0;31m     \u001b[0msupport_ds\u001b[0m\u001b[0;34m,\u001b[0m \u001b[0mquery_ds\u001b[0m \u001b[0;34m=\u001b[0m \u001b[0msample_task\u001b[0m\u001b[0;34m(\u001b[0m\u001b[0mtrain_path\u001b[0m\u001b[0;34m,\u001b[0m \u001b[0mnum_classes\u001b[0m\u001b[0;34m=\u001b[0m\u001b[0mnum_classes\u001b[0m\u001b[0;34m,\u001b[0m \u001b[0mshots\u001b[0m\u001b[0;34m=\u001b[0m\u001b[0mshots\u001b[0m\u001b[0;34m)\u001b[0m\u001b[0;34m\u001b[0m\u001b[0;34m\u001b[0m\u001b[0m\n\u001b[0m\u001b[1;32m      9\u001b[0m \u001b[0;34m\u001b[0m\u001b[0m\n\u001b[1;32m     10\u001b[0m     \u001b[0;31m# Set model weights and compile for each task\u001b[0m\u001b[0;34m\u001b[0m\u001b[0;34m\u001b[0m\u001b[0m\n",
            "\u001b[0;32m<ipython-input-58-b0e83ecf0d02>\u001b[0m in \u001b[0;36msample_task\u001b[0;34m(data_path, num_classes, shots)\u001b[0m\n\u001b[1;32m      1\u001b[0m \u001b[0;32mdef\u001b[0m \u001b[0msample_task\u001b[0m\u001b[0;34m(\u001b[0m\u001b[0mdata_path\u001b[0m\u001b[0;34m,\u001b[0m \u001b[0mnum_classes\u001b[0m\u001b[0;34m=\u001b[0m\u001b[0;36m5\u001b[0m\u001b[0;34m,\u001b[0m \u001b[0mshots\u001b[0m\u001b[0;34m=\u001b[0m\u001b[0;36m5\u001b[0m\u001b[0;34m)\u001b[0m\u001b[0;34m:\u001b[0m\u001b[0;34m\u001b[0m\u001b[0;34m\u001b[0m\u001b[0m\n\u001b[1;32m      2\u001b[0m     \u001b[0mclass_names\u001b[0m \u001b[0;34m=\u001b[0m \u001b[0mos\u001b[0m\u001b[0;34m.\u001b[0m\u001b[0mlistdir\u001b[0m\u001b[0;34m(\u001b[0m\u001b[0mdata_path\u001b[0m\u001b[0;34m)\u001b[0m\u001b[0;34m\u001b[0m\u001b[0;34m\u001b[0m\u001b[0m\n\u001b[0;32m----> 3\u001b[0;31m     \u001b[0mselected_classes\u001b[0m \u001b[0;34m=\u001b[0m \u001b[0mrandom\u001b[0m\u001b[0;34m.\u001b[0m\u001b[0msample\u001b[0m\u001b[0;34m(\u001b[0m\u001b[0mclass_names\u001b[0m\u001b[0;34m,\u001b[0m \u001b[0mnum_classes\u001b[0m\u001b[0;34m)\u001b[0m\u001b[0;34m\u001b[0m\u001b[0;34m\u001b[0m\u001b[0m\n\u001b[0m\u001b[1;32m      4\u001b[0m \u001b[0;34m\u001b[0m\u001b[0m\n\u001b[1;32m      5\u001b[0m     \u001b[0msupport_images\u001b[0m\u001b[0;34m,\u001b[0m \u001b[0msupport_labels\u001b[0m \u001b[0;34m=\u001b[0m \u001b[0;34m[\u001b[0m\u001b[0;34m]\u001b[0m\u001b[0;34m,\u001b[0m \u001b[0;34m[\u001b[0m\u001b[0;34m]\u001b[0m\u001b[0;34m\u001b[0m\u001b[0;34m\u001b[0m\u001b[0m\n",
            "\u001b[0;32m/usr/lib/python3.11/random.py\u001b[0m in \u001b[0;36msample\u001b[0;34m(self, population, k, counts)\u001b[0m\n\u001b[1;32m    454\u001b[0m         \u001b[0mrandbelow\u001b[0m \u001b[0;34m=\u001b[0m \u001b[0mself\u001b[0m\u001b[0;34m.\u001b[0m\u001b[0m_randbelow\u001b[0m\u001b[0;34m\u001b[0m\u001b[0;34m\u001b[0m\u001b[0m\n\u001b[1;32m    455\u001b[0m         \u001b[0;32mif\u001b[0m \u001b[0;32mnot\u001b[0m \u001b[0;36m0\u001b[0m \u001b[0;34m<=\u001b[0m \u001b[0mk\u001b[0m \u001b[0;34m<=\u001b[0m \u001b[0mn\u001b[0m\u001b[0;34m:\u001b[0m\u001b[0;34m\u001b[0m\u001b[0;34m\u001b[0m\u001b[0m\n\u001b[0;32m--> 456\u001b[0;31m             \u001b[0;32mraise\u001b[0m \u001b[0mValueError\u001b[0m\u001b[0;34m(\u001b[0m\u001b[0;34m\"Sample larger than population or is negative\"\u001b[0m\u001b[0;34m)\u001b[0m\u001b[0;34m\u001b[0m\u001b[0;34m\u001b[0m\u001b[0m\n\u001b[0m\u001b[1;32m    457\u001b[0m         \u001b[0mresult\u001b[0m \u001b[0;34m=\u001b[0m \u001b[0;34m[\u001b[0m\u001b[0;32mNone\u001b[0m\u001b[0;34m]\u001b[0m \u001b[0;34m*\u001b[0m \u001b[0mk\u001b[0m\u001b[0;34m\u001b[0m\u001b[0;34m\u001b[0m\u001b[0m\n\u001b[1;32m    458\u001b[0m         \u001b[0msetsize\u001b[0m \u001b[0;34m=\u001b[0m \u001b[0;36m21\u001b[0m        \u001b[0;31m# size of a small set minus size of an empty list\u001b[0m\u001b[0;34m\u001b[0m\u001b[0;34m\u001b[0m\u001b[0m\n",
            "\u001b[0;31mValueError\u001b[0m: Sample larger than population or is negative"
          ]
        }
      ]
    },
    {
      "cell_type": "code",
      "source": [],
      "metadata": {
        "id": "2XwEJ-flwrap"
      },
      "execution_count": null,
      "outputs": []
    }
  ],
  "metadata": {
    "colab": {
      "provenance": [],
      "authorship_tag": "ABX9TyOWxJGFQ8CGqaJAQF5jXExZ",
      "include_colab_link": true
    },
    "kernelspec": {
      "display_name": "Python 3",
      "name": "python3"
    },
    "language_info": {
      "name": "python"
    }
  },
  "nbformat": 4,
  "nbformat_minor": 0
}